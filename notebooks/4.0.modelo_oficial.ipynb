{
 "cells": [
  {
   "cell_type": "markdown",
   "id": "dcf5fadc-092e-4f24-b906-ca6b0479a6c8",
   "metadata": {},
   "source": [
    "# Modelo oficial\n",
    "\n",
    "- **Objetivo:** Identificar se a pessoa quer ou não trocar de trabalho baseado em suas características\n",
    "\n",
    "- **Métricas**: \n",
    "    - Acurácia\n",
    "    - Recall\n",
    "    - Precision\n",
    "    - F1-score\n",
    "\n",
    "- **Modelo de ML**: Light Gradient Boosting Machine"
   ]
  },
  {
   "cell_type": "markdown",
   "id": "3d844831-3c11-406c-95fa-cb455de99e5b",
   "metadata": {},
   "source": [
    "## 0. Setup"
   ]
  },
  {
   "cell_type": "code",
   "execution_count": 1,
   "id": "b97cc2ad-a30b-4ba6-b71c-50381a1cf9bb",
   "metadata": {},
   "outputs": [],
   "source": [
    "import pandas as pd\n",
    "import numpy as np"
   ]
  },
  {
   "cell_type": "markdown",
   "id": "9cb7ef1f-6996-47fa-805c-b51dcbbcf56c",
   "metadata": {},
   "source": [
    "## 1. Carregando os dados"
   ]
  },
  {
   "cell_type": "code",
   "execution_count": 2,
   "id": "b1fa38c1-236e-4ea1-b01e-36881f8d4723",
   "metadata": {},
   "outputs": [
    {
     "data": {
      "text/html": [
       "<div>\n",
       "<style scoped>\n",
       "    .dataframe tbody tr th:only-of-type {\n",
       "        vertical-align: middle;\n",
       "    }\n",
       "\n",
       "    .dataframe tbody tr th {\n",
       "        vertical-align: top;\n",
       "    }\n",
       "\n",
       "    .dataframe thead th {\n",
       "        text-align: right;\n",
       "    }\n",
       "</style>\n",
       "<table border=\"1\" class=\"dataframe\">\n",
       "  <thead>\n",
       "    <tr style=\"text-align: right;\">\n",
       "      <th></th>\n",
       "      <th>enrollee_id</th>\n",
       "      <th>city</th>\n",
       "      <th>city_development_index</th>\n",
       "      <th>gender</th>\n",
       "      <th>relevent_experience</th>\n",
       "      <th>enrolled_university</th>\n",
       "      <th>education_level</th>\n",
       "      <th>major_discipline</th>\n",
       "      <th>experience</th>\n",
       "      <th>company_size</th>\n",
       "      <th>company_type</th>\n",
       "      <th>last_new_job</th>\n",
       "      <th>training_hours</th>\n",
       "      <th>target</th>\n",
       "    </tr>\n",
       "  </thead>\n",
       "  <tbody>\n",
       "    <tr>\n",
       "      <th>0</th>\n",
       "      <td>8949</td>\n",
       "      <td>city_103</td>\n",
       "      <td>0.920</td>\n",
       "      <td>Male</td>\n",
       "      <td>Has relevent experience</td>\n",
       "      <td>no_enrollment</td>\n",
       "      <td>Graduate</td>\n",
       "      <td>STEM</td>\n",
       "      <td>&gt;20</td>\n",
       "      <td>NaN</td>\n",
       "      <td>NaN</td>\n",
       "      <td>1</td>\n",
       "      <td>36</td>\n",
       "      <td>1.0</td>\n",
       "    </tr>\n",
       "    <tr>\n",
       "      <th>1</th>\n",
       "      <td>29725</td>\n",
       "      <td>city_40</td>\n",
       "      <td>0.776</td>\n",
       "      <td>Male</td>\n",
       "      <td>No relevent experience</td>\n",
       "      <td>no_enrollment</td>\n",
       "      <td>Graduate</td>\n",
       "      <td>STEM</td>\n",
       "      <td>15</td>\n",
       "      <td>50-99</td>\n",
       "      <td>Pvt Ltd</td>\n",
       "      <td>&gt;4</td>\n",
       "      <td>47</td>\n",
       "      <td>0.0</td>\n",
       "    </tr>\n",
       "    <tr>\n",
       "      <th>2</th>\n",
       "      <td>11561</td>\n",
       "      <td>city_21</td>\n",
       "      <td>0.624</td>\n",
       "      <td>NaN</td>\n",
       "      <td>No relevent experience</td>\n",
       "      <td>Full time course</td>\n",
       "      <td>Graduate</td>\n",
       "      <td>STEM</td>\n",
       "      <td>5</td>\n",
       "      <td>NaN</td>\n",
       "      <td>NaN</td>\n",
       "      <td>never</td>\n",
       "      <td>83</td>\n",
       "      <td>0.0</td>\n",
       "    </tr>\n",
       "  </tbody>\n",
       "</table>\n",
       "</div>"
      ],
      "text/plain": [
       "   enrollee_id      city  city_development_index gender  \\\n",
       "0         8949  city_103                   0.920   Male   \n",
       "1        29725   city_40                   0.776   Male   \n",
       "2        11561   city_21                   0.624    NaN   \n",
       "\n",
       "       relevent_experience enrolled_university education_level  \\\n",
       "0  Has relevent experience       no_enrollment        Graduate   \n",
       "1   No relevent experience       no_enrollment        Graduate   \n",
       "2   No relevent experience    Full time course        Graduate   \n",
       "\n",
       "  major_discipline experience company_size company_type last_new_job  \\\n",
       "0             STEM        >20          NaN          NaN            1   \n",
       "1             STEM         15        50-99      Pvt Ltd           >4   \n",
       "2             STEM          5          NaN          NaN        never   \n",
       "\n",
       "   training_hours  target  \n",
       "0              36     1.0  \n",
       "1              47     0.0  \n",
       "2              83     0.0  "
      ]
     },
     "execution_count": 2,
     "metadata": {},
     "output_type": "execute_result"
    }
   ],
   "source": [
    "dados = pd.read_csv(filepath_or_buffer = '../data/raw/aug_train.csv')\n",
    "\n",
    "dados.head(3)"
   ]
  },
  {
   "cell_type": "markdown",
   "id": "709864bf-9b69-4c37-8c2a-2ed832bd389c",
   "metadata": {},
   "source": [
    "## 2. Criar as novas features"
   ]
  },
  {
   "cell_type": "markdown",
   "id": "abecbfe1-ff9d-41ef-9a96-adbc13c9f485",
   "metadata": {},
   "source": [
    "### 2.1. Agrupar os valores de company_size em PP, P, M e G"
   ]
  },
  {
   "cell_type": "code",
   "execution_count": 3,
   "id": "e0007962-1ba7-4c70-895b-2626728effd3",
   "metadata": {},
   "outputs": [],
   "source": [
    "def add_feature_company_size(df):\n",
    "    \n",
    "    \"\"\"\n",
    "    # PP: Até 50 pessoas\n",
    "    # P: Vai de 50 até 500\n",
    "    # M: Vai de 500 até 4999\n",
    "    # G: Acima de 5000\n",
    "    \"\"\"\n",
    "    \n",
    "    df1 = df.copy()\n",
    "    \n",
    "    df1['company_size_cat'] = np.where(dados['company_size'].isin(['<10', '10/49']), 'PP', \n",
    "                                       np.where(dados['company_size'].isin(['50-99', '100-500']), 'P',\n",
    "                                                np.where(dados['company_size'].isin(['500-999', '1000-4999']), 'M',\n",
    "                                                         np.where(dados['company_size'].isin(['5000-9999', '10000+']), 'GG', \n",
    "                                                                  np.nan))))\n",
    "    \n",
    "    return df1"
   ]
  },
  {
   "cell_type": "markdown",
   "id": "8d5b0bc5-9d02-4c10-8b6f-47317f6f5dd4",
   "metadata": {},
   "source": [
    "### 2.2. Fazer uma feature que divide a quantidade de horas treinadas por 24 (resultados em quantos dias de treinamento ela participou)"
   ]
  },
  {
   "cell_type": "code",
   "execution_count": 4,
   "id": "96db9110-73a9-494e-8abd-59857227b557",
   "metadata": {},
   "outputs": [],
   "source": [
    "def add_feature_training_hours(df):\n",
    "    \n",
    "    df1 = df.copy()\n",
    "    \n",
    "    df1['days_training_hours'] = df1['training_hours'] / 24\n",
    "    \n",
    "    return df1"
   ]
  },
  {
   "cell_type": "markdown",
   "id": "26a843dc-5f19-46e8-b0db-3670a8f0ff38",
   "metadata": {
    "tags": []
   },
   "source": [
    "### 2.3. Criar uma variável categórica que diz se a pessoa é nova ou não no mercado de trabalho. Ex.: Se a pessoa tem 3 ou menos anos de experiência, ela é nova, senão ela é \"velha\""
   ]
  },
  {
   "cell_type": "code",
   "execution_count": 5,
   "id": "d6e692bb-4421-4196-aac4-0b1dc3e0ac4e",
   "metadata": {},
   "outputs": [],
   "source": [
    "def add_feature_experience(df):\n",
    "    \n",
    "    df1 = df.copy()\n",
    "    \n",
    "    df1['experience_cat'] = np.where(dados['experience'].isin(['<1', '1', '2', '3', '4', '5', '6', '7', '8', '9']), 0, \n",
    "                                     np.where(dados['experience'].isin(['10', '11', '12', '13', '14', '15', '16', '17', '18', '19', '20', '>20']), 1, \n",
    "                                              np.nan))\n",
    "    \n",
    "    return df1"
   ]
  },
  {
   "cell_type": "markdown",
   "id": "255b1fc0-331c-4ece-bd05-2228ad5ef820",
   "metadata": {
    "tags": []
   },
   "source": [
    "### 2.4. Agrupar os valores de company_type relacionadas a startup"
   ]
  },
  {
   "cell_type": "code",
   "execution_count": 6,
   "id": "fde122ad-35f6-4ece-9280-bec628dc8292",
   "metadata": {},
   "outputs": [],
   "source": [
    "def add_feature_company_type(df):\n",
    "    \n",
    "    df1 = df.copy()\n",
    "    \n",
    "    df1['company_type_cat'] = np.where(dados['company_type'].isin(['Funded Startup', 'Early Stage Startup']), 1, \n",
    "                                     np.where(dados['company_type'].isin(['Pvt Ltd', 'Other', 'Public Sector', 'NGO']), 0, \n",
    "                                              np.nan))\n",
    "    \n",
    "    return df1"
   ]
  },
  {
   "cell_type": "markdown",
   "id": "6af8f3d5-f017-4e54-b811-61c6b3d7a3fc",
   "metadata": {
    "tags": []
   },
   "source": [
    "### 2.5. Criando função para identificar nulos em qualquer variável (se for nulo, 1, 0)"
   ]
  },
  {
   "cell_type": "code",
   "execution_count": 7,
   "id": "3cad4e8d-0b03-4ed6-b80e-8e3278643268",
   "metadata": {},
   "outputs": [],
   "source": [
    "def add_feature_null_column(df, col):\n",
    "    \n",
    "    df1 = df.copy()\n",
    "    \n",
    "    df1['check_null_' + col] = np.where(df1[col].isna(), 1, 0)\n",
    "    \n",
    "    return df1"
   ]
  },
  {
   "cell_type": "markdown",
   "id": "d2940d20-8f24-45aa-934c-f1f3c6b164d0",
   "metadata": {},
   "source": [
    "### 2.6. Criando função para identificar nulos em variáveis qualitativas"
   ]
  },
  {
   "cell_type": "code",
   "execution_count": 8,
   "id": "a561af49-83f2-485b-bd5e-78e95a1747c6",
   "metadata": {},
   "outputs": [],
   "source": [
    "def add_feature_null_qualitative(df, col):\n",
    "    \n",
    "    df1 = df.copy()\n",
    "    \n",
    "    df1[col] = np.where(df1[col].isna(), 'Outras', df1[col])\n",
    "    \n",
    "    return df1"
   ]
  },
  {
   "cell_type": "markdown",
   "id": "7cba0374-1f50-4a29-b2a5-0d8c79f6338c",
   "metadata": {},
   "source": [
    "### 2.7. Criando função para identificar nulos em variáveis quantitativas"
   ]
  },
  {
   "cell_type": "code",
   "execution_count": 9,
   "id": "e0f4fe64-dcb7-477f-b577-bbe867cc0c4a",
   "metadata": {},
   "outputs": [],
   "source": [
    "def add_feature_null_quantitative(df, col):\n",
    "    \n",
    "    df1 = df.copy()\n",
    "    \n",
    "    df1[col] = np.where(df1[col].isna(), 99999, df1[col])\n",
    "    \n",
    "    return df1"
   ]
  },
  {
   "cell_type": "markdown",
   "id": "2d15dbee-7655-4c2a-b0aa-f502fd1e4a8d",
   "metadata": {},
   "source": [
    "## 3. Criação do modelo"
   ]
  },
  {
   "cell_type": "markdown",
   "id": "4da77bcb-a6f3-44e9-81b1-bf8962b2ecb0",
   "metadata": {},
   "source": [
    "### 3.0. Setup"
   ]
  },
  {
   "cell_type": "code",
   "execution_count": 59,
   "id": "14d4d9a8-7c39-4f01-8678-3583d1217e39",
   "metadata": {},
   "outputs": [],
   "source": [
    "from sklearn.model_selection import train_test_split\n",
    "from sklearn.pipeline import make_pipeline \n",
    "from sklearn.compose import make_column_transformer\n",
    "from sklearn import set_config \n",
    "from sklearn.metrics import classification_report, accuracy_score, recall_score, f1_score, precision_score\n",
    "from sklearn.preprocessing import MaxAbsScaler, MinMaxScaler, Normalizer, QuantileTransformer, StandardScaler, OneHotEncoder\n",
    "import category_encoders as ce\n",
    "import lightgbm as lgb\n",
    "\n",
    "\n",
    "set_config(display = \"diagram\")"
   ]
  },
  {
   "cell_type": "markdown",
   "id": "50267155-fd85-4174-bcb4-70459a0b06d6",
   "metadata": {},
   "source": [
    "### 3.1. Divisão da base de treino e teste"
   ]
  },
  {
   "cell_type": "code",
   "execution_count": 22,
   "id": "e39d8fd7-f890-4404-a64a-50409a9b53b1",
   "metadata": {},
   "outputs": [],
   "source": [
    "X = dados.drop(columns = 'target', axis = 1)\n",
    "\n",
    "y = dados.target"
   ]
  },
  {
   "cell_type": "code",
   "execution_count": 23,
   "id": "265eaf88-78ba-4bd0-857a-c4b240dba596",
   "metadata": {},
   "outputs": [],
   "source": [
    "X_train, X_test, y_train, y_test = train_test_split(X, y, train_size = 0.7, random_state = 19, stratify = y)"
   ]
  },
  {
   "cell_type": "code",
   "execution_count": 24,
   "id": "4a423e34-cd5f-4c55-9a60-c66c48f3ce40",
   "metadata": {},
   "outputs": [
    {
     "name": "stdout",
     "output_type": "stream",
     "text": [
      "Quantidade de linhas do X_train: 13410 \n",
      " Quantidade de linhas do X_test: 5748\n",
      " Quantidade de linhas do y_train: 13410\n",
      " Quantidade de linhas do y_test: 5748\n"
     ]
    }
   ],
   "source": [
    "print(f'Quantidade de linhas do X_train: {X_train.shape[0]} \\n \\\n",
    "Quantidade de linhas do X_test: {X_test.shape[0]}\\n \\\n",
    "Quantidade de linhas do y_train: {y_train.shape[0]}\\n \\\n",
    "Quantidade de linhas do y_test: {y_test.shape[0]}\\\n",
    "')"
   ]
  },
  {
   "cell_type": "markdown",
   "id": "dccd5b60-269b-46eb-be38-d18a22362a8b",
   "metadata": {},
   "source": [
    "### 3.2. Definindo os passos do Pipeline de Feature Engineering"
   ]
  },
  {
   "cell_type": "code",
   "execution_count": 49,
   "id": "5f2e8600-3f49-4fe2-841f-fa790d73040c",
   "metadata": {},
   "outputs": [
    {
     "name": "stderr",
     "output_type": "stream",
     "text": [
      "/home/rafael/Documentos/Github/hr_analysis/env/lib/python3.10/site-packages/category_encoders/target_encoder.py:122: FutureWarning: Default parameter min_samples_leaf will change in version 2.6.See https://github.com/scikit-learn-contrib/category_encoders/issues/327\n",
      "  warnings.warn(\"Default parameter min_samples_leaf will change in version 2.6.\"\n",
      "/home/rafael/Documentos/Github/hr_analysis/env/lib/python3.10/site-packages/category_encoders/target_encoder.py:127: FutureWarning: Default parameter smoothing will change in version 2.6.See https://github.com/scikit-learn-contrib/category_encoders/issues/327\n",
      "  warnings.warn(\"Default parameter smoothing will change in version 2.6.\"\n"
     ]
    }
   ],
   "source": [
    "encoder1 = ce.BackwardDifferenceEncoder()\n",
    "encoder2 = ce.BaseNEncoder()\n",
    "encoder3 = ce.BinaryEncoder()\n",
    "encoder4 = ce.CatBoostEncoder()\n",
    "encoder5 = ce.CountEncoder()\n",
    "encoder6 = ce.GLMMEncoder()\n",
    "encoder7 = ce.HashingEncoder()\n",
    "encoder8 = ce.HelmertEncoder()\n",
    "encoder9 = ce.JamesSteinEncoder()\n",
    "encoder10 = ce.LeaveOneOutEncoder()\n",
    "encoder11 = ce.MEstimateEncoder()\n",
    "encoder12 = OneHotEncoder(handle_unknown = \"ignore\")\n",
    "encoder13 = ce.OrdinalEncoder()\n",
    "encoder14 = ce.SumEncoder()\n",
    "encoder15 = ce.PolynomialEncoder()\n",
    "encoder16 = ce.TargetEncoder()\n",
    "encoder17 = ce.WOEEncoder()\n",
    "encoder18 = ce.QuantileEncoder()\n",
    "encoder19 = MaxAbsScaler()\n",
    "encoder20 = MinMaxScaler()\n",
    "encoder21 = Normalizer()\n",
    "encoder22 = QuantileTransformer()\n",
    "encoder23 = StandardScaler()\n",
    "\n",
    "model = lgb.LGBMClassifier(random_state = 42)"
   ]
  },
  {
   "cell_type": "code",
   "execution_count": 50,
   "id": "e9489052-0e5e-4219-bf0e-980b26e25efb",
   "metadata": {},
   "outputs": [],
   "source": [
    "features_qual = list(dados.select_dtypes(include = ['object']).columns)\n",
    "features_quant = list(dados.drop(columns = ['enrollee_id', 'target'], axis = 1).select_dtypes(include = [int, float]).columns)"
   ]
  },
  {
   "cell_type": "code",
   "execution_count": 51,
   "id": "0835ad5a-41ce-4618-b9f3-c637ce5dc0a2",
   "metadata": {},
   "outputs": [
    {
     "data": {
      "text/html": [
       "<style>#sk-container-id-4 {color: black;background-color: white;}#sk-container-id-4 pre{padding: 0;}#sk-container-id-4 div.sk-toggleable {background-color: white;}#sk-container-id-4 label.sk-toggleable__label {cursor: pointer;display: block;width: 100%;margin-bottom: 0;padding: 0.3em;box-sizing: border-box;text-align: center;}#sk-container-id-4 label.sk-toggleable__label-arrow:before {content: \"▸\";float: left;margin-right: 0.25em;color: #696969;}#sk-container-id-4 label.sk-toggleable__label-arrow:hover:before {color: black;}#sk-container-id-4 div.sk-estimator:hover label.sk-toggleable__label-arrow:before {color: black;}#sk-container-id-4 div.sk-toggleable__content {max-height: 0;max-width: 0;overflow: hidden;text-align: left;background-color: #f0f8ff;}#sk-container-id-4 div.sk-toggleable__content pre {margin: 0.2em;color: black;border-radius: 0.25em;background-color: #f0f8ff;}#sk-container-id-4 input.sk-toggleable__control:checked~div.sk-toggleable__content {max-height: 200px;max-width: 100%;overflow: auto;}#sk-container-id-4 input.sk-toggleable__control:checked~label.sk-toggleable__label-arrow:before {content: \"▾\";}#sk-container-id-4 div.sk-estimator input.sk-toggleable__control:checked~label.sk-toggleable__label {background-color: #d4ebff;}#sk-container-id-4 div.sk-label input.sk-toggleable__control:checked~label.sk-toggleable__label {background-color: #d4ebff;}#sk-container-id-4 input.sk-hidden--visually {border: 0;clip: rect(1px 1px 1px 1px);clip: rect(1px, 1px, 1px, 1px);height: 1px;margin: -1px;overflow: hidden;padding: 0;position: absolute;width: 1px;}#sk-container-id-4 div.sk-estimator {font-family: monospace;background-color: #f0f8ff;border: 1px dotted black;border-radius: 0.25em;box-sizing: border-box;margin-bottom: 0.5em;}#sk-container-id-4 div.sk-estimator:hover {background-color: #d4ebff;}#sk-container-id-4 div.sk-parallel-item::after {content: \"\";width: 100%;border-bottom: 1px solid gray;flex-grow: 1;}#sk-container-id-4 div.sk-label:hover label.sk-toggleable__label {background-color: #d4ebff;}#sk-container-id-4 div.sk-serial::before {content: \"\";position: absolute;border-left: 1px solid gray;box-sizing: border-box;top: 0;bottom: 0;left: 50%;z-index: 0;}#sk-container-id-4 div.sk-serial {display: flex;flex-direction: column;align-items: center;background-color: white;padding-right: 0.2em;padding-left: 0.2em;position: relative;}#sk-container-id-4 div.sk-item {position: relative;z-index: 1;}#sk-container-id-4 div.sk-parallel {display: flex;align-items: stretch;justify-content: center;background-color: white;position: relative;}#sk-container-id-4 div.sk-item::before, #sk-container-id-4 div.sk-parallel-item::before {content: \"\";position: absolute;border-left: 1px solid gray;box-sizing: border-box;top: 0;bottom: 0;left: 50%;z-index: -1;}#sk-container-id-4 div.sk-parallel-item {display: flex;flex-direction: column;z-index: 1;position: relative;background-color: white;}#sk-container-id-4 div.sk-parallel-item:first-child::after {align-self: flex-end;width: 50%;}#sk-container-id-4 div.sk-parallel-item:last-child::after {align-self: flex-start;width: 50%;}#sk-container-id-4 div.sk-parallel-item:only-child::after {width: 0;}#sk-container-id-4 div.sk-dashed-wrapped {border: 1px dashed gray;margin: 0 0.4em 0.5em 0.4em;box-sizing: border-box;padding-bottom: 0.4em;background-color: white;}#sk-container-id-4 div.sk-label label {font-family: monospace;font-weight: bold;display: inline-block;line-height: 1.2em;}#sk-container-id-4 div.sk-label-container {text-align: center;}#sk-container-id-4 div.sk-container {/* jupyter's `normalize.less` sets `[hidden] { display: none; }` but bootstrap.min.css set `[hidden] { display: none !important; }` so we also need the `!important` here to be able to override the default hidden behavior on the sphinx rendered scikit-learn.org. See: https://github.com/scikit-learn/scikit-learn/issues/21755 */display: inline-block !important;position: relative;}#sk-container-id-4 div.sk-text-repr-fallback {display: none;}</style><div id=\"sk-container-id-4\" class=\"sk-top-container\"><div class=\"sk-text-repr-fallback\"><pre>ColumnTransformer(transformers=[(&#x27;onehotencoder&#x27;,\n",
       "                                 OneHotEncoder(handle_unknown=&#x27;ignore&#x27;),\n",
       "                                 [&#x27;city&#x27;, &#x27;gender&#x27;, &#x27;relevent_experience&#x27;,\n",
       "                                  &#x27;enrolled_university&#x27;, &#x27;education_level&#x27;,\n",
       "                                  &#x27;major_discipline&#x27;, &#x27;experience&#x27;,\n",
       "                                  &#x27;company_size&#x27;, &#x27;company_type&#x27;,\n",
       "                                  &#x27;last_new_job&#x27;]),\n",
       "                                (&#x27;standardscaler&#x27;, StandardScaler(),\n",
       "                                 [&#x27;city_development_index&#x27;, &#x27;training_hours&#x27;])])</pre><b>In a Jupyter environment, please rerun this cell to show the HTML representation or trust the notebook. <br />On GitHub, the HTML representation is unable to render, please try loading this page with nbviewer.org.</b></div><div class=\"sk-container\" hidden><div class=\"sk-item sk-dashed-wrapped\"><div class=\"sk-label-container\"><div class=\"sk-label sk-toggleable\"><input class=\"sk-toggleable__control sk-hidden--visually\" id=\"sk-estimator-id-20\" type=\"checkbox\" ><label for=\"sk-estimator-id-20\" class=\"sk-toggleable__label sk-toggleable__label-arrow\">ColumnTransformer</label><div class=\"sk-toggleable__content\"><pre>ColumnTransformer(transformers=[(&#x27;onehotencoder&#x27;,\n",
       "                                 OneHotEncoder(handle_unknown=&#x27;ignore&#x27;),\n",
       "                                 [&#x27;city&#x27;, &#x27;gender&#x27;, &#x27;relevent_experience&#x27;,\n",
       "                                  &#x27;enrolled_university&#x27;, &#x27;education_level&#x27;,\n",
       "                                  &#x27;major_discipline&#x27;, &#x27;experience&#x27;,\n",
       "                                  &#x27;company_size&#x27;, &#x27;company_type&#x27;,\n",
       "                                  &#x27;last_new_job&#x27;]),\n",
       "                                (&#x27;standardscaler&#x27;, StandardScaler(),\n",
       "                                 [&#x27;city_development_index&#x27;, &#x27;training_hours&#x27;])])</pre></div></div></div><div class=\"sk-parallel\"><div class=\"sk-parallel-item\"><div class=\"sk-item\"><div class=\"sk-label-container\"><div class=\"sk-label sk-toggleable\"><input class=\"sk-toggleable__control sk-hidden--visually\" id=\"sk-estimator-id-21\" type=\"checkbox\" ><label for=\"sk-estimator-id-21\" class=\"sk-toggleable__label sk-toggleable__label-arrow\">onehotencoder</label><div class=\"sk-toggleable__content\"><pre>[&#x27;city&#x27;, &#x27;gender&#x27;, &#x27;relevent_experience&#x27;, &#x27;enrolled_university&#x27;, &#x27;education_level&#x27;, &#x27;major_discipline&#x27;, &#x27;experience&#x27;, &#x27;company_size&#x27;, &#x27;company_type&#x27;, &#x27;last_new_job&#x27;]</pre></div></div></div><div class=\"sk-serial\"><div class=\"sk-item\"><div class=\"sk-estimator sk-toggleable\"><input class=\"sk-toggleable__control sk-hidden--visually\" id=\"sk-estimator-id-22\" type=\"checkbox\" ><label for=\"sk-estimator-id-22\" class=\"sk-toggleable__label sk-toggleable__label-arrow\">OneHotEncoder</label><div class=\"sk-toggleable__content\"><pre>OneHotEncoder(handle_unknown=&#x27;ignore&#x27;)</pre></div></div></div></div></div></div><div class=\"sk-parallel-item\"><div class=\"sk-item\"><div class=\"sk-label-container\"><div class=\"sk-label sk-toggleable\"><input class=\"sk-toggleable__control sk-hidden--visually\" id=\"sk-estimator-id-23\" type=\"checkbox\" ><label for=\"sk-estimator-id-23\" class=\"sk-toggleable__label sk-toggleable__label-arrow\">standardscaler</label><div class=\"sk-toggleable__content\"><pre>[&#x27;city_development_index&#x27;, &#x27;training_hours&#x27;]</pre></div></div></div><div class=\"sk-serial\"><div class=\"sk-item\"><div class=\"sk-estimator sk-toggleable\"><input class=\"sk-toggleable__control sk-hidden--visually\" id=\"sk-estimator-id-24\" type=\"checkbox\" ><label for=\"sk-estimator-id-24\" class=\"sk-toggleable__label sk-toggleable__label-arrow\">StandardScaler</label><div class=\"sk-toggleable__content\"><pre>StandardScaler()</pre></div></div></div></div></div></div></div></div></div></div>"
      ],
      "text/plain": [
       "ColumnTransformer(transformers=[('onehotencoder',\n",
       "                                 OneHotEncoder(handle_unknown='ignore'),\n",
       "                                 ['city', 'gender', 'relevent_experience',\n",
       "                                  'enrolled_university', 'education_level',\n",
       "                                  'major_discipline', 'experience',\n",
       "                                  'company_size', 'company_type',\n",
       "                                  'last_new_job']),\n",
       "                                ('standardscaler', StandardScaler(),\n",
       "                                 ['city_development_index', 'training_hours'])])"
      ]
     },
     "execution_count": 51,
     "metadata": {},
     "output_type": "execute_result"
    }
   ],
   "source": [
    "pipeline_inicial = make_column_transformer(\\\n",
    "                                           (encoder12, features_qual),\n",
    "                                           (encoder23, features_quant),\n",
    "                                           remainder = 'drop'\n",
    "                       )\n",
    "\n",
    "pipeline_inicial"
   ]
  },
  {
   "cell_type": "code",
   "execution_count": 52,
   "id": "a0d4a87b-33b8-481e-8e69-cf4adaf9f439",
   "metadata": {},
   "outputs": [
    {
     "data": {
      "text/html": [
       "<style>#sk-container-id-5 {color: black;background-color: white;}#sk-container-id-5 pre{padding: 0;}#sk-container-id-5 div.sk-toggleable {background-color: white;}#sk-container-id-5 label.sk-toggleable__label {cursor: pointer;display: block;width: 100%;margin-bottom: 0;padding: 0.3em;box-sizing: border-box;text-align: center;}#sk-container-id-5 label.sk-toggleable__label-arrow:before {content: \"▸\";float: left;margin-right: 0.25em;color: #696969;}#sk-container-id-5 label.sk-toggleable__label-arrow:hover:before {color: black;}#sk-container-id-5 div.sk-estimator:hover label.sk-toggleable__label-arrow:before {color: black;}#sk-container-id-5 div.sk-toggleable__content {max-height: 0;max-width: 0;overflow: hidden;text-align: left;background-color: #f0f8ff;}#sk-container-id-5 div.sk-toggleable__content pre {margin: 0.2em;color: black;border-radius: 0.25em;background-color: #f0f8ff;}#sk-container-id-5 input.sk-toggleable__control:checked~div.sk-toggleable__content {max-height: 200px;max-width: 100%;overflow: auto;}#sk-container-id-5 input.sk-toggleable__control:checked~label.sk-toggleable__label-arrow:before {content: \"▾\";}#sk-container-id-5 div.sk-estimator input.sk-toggleable__control:checked~label.sk-toggleable__label {background-color: #d4ebff;}#sk-container-id-5 div.sk-label input.sk-toggleable__control:checked~label.sk-toggleable__label {background-color: #d4ebff;}#sk-container-id-5 input.sk-hidden--visually {border: 0;clip: rect(1px 1px 1px 1px);clip: rect(1px, 1px, 1px, 1px);height: 1px;margin: -1px;overflow: hidden;padding: 0;position: absolute;width: 1px;}#sk-container-id-5 div.sk-estimator {font-family: monospace;background-color: #f0f8ff;border: 1px dotted black;border-radius: 0.25em;box-sizing: border-box;margin-bottom: 0.5em;}#sk-container-id-5 div.sk-estimator:hover {background-color: #d4ebff;}#sk-container-id-5 div.sk-parallel-item::after {content: \"\";width: 100%;border-bottom: 1px solid gray;flex-grow: 1;}#sk-container-id-5 div.sk-label:hover label.sk-toggleable__label {background-color: #d4ebff;}#sk-container-id-5 div.sk-serial::before {content: \"\";position: absolute;border-left: 1px solid gray;box-sizing: border-box;top: 0;bottom: 0;left: 50%;z-index: 0;}#sk-container-id-5 div.sk-serial {display: flex;flex-direction: column;align-items: center;background-color: white;padding-right: 0.2em;padding-left: 0.2em;position: relative;}#sk-container-id-5 div.sk-item {position: relative;z-index: 1;}#sk-container-id-5 div.sk-parallel {display: flex;align-items: stretch;justify-content: center;background-color: white;position: relative;}#sk-container-id-5 div.sk-item::before, #sk-container-id-5 div.sk-parallel-item::before {content: \"\";position: absolute;border-left: 1px solid gray;box-sizing: border-box;top: 0;bottom: 0;left: 50%;z-index: -1;}#sk-container-id-5 div.sk-parallel-item {display: flex;flex-direction: column;z-index: 1;position: relative;background-color: white;}#sk-container-id-5 div.sk-parallel-item:first-child::after {align-self: flex-end;width: 50%;}#sk-container-id-5 div.sk-parallel-item:last-child::after {align-self: flex-start;width: 50%;}#sk-container-id-5 div.sk-parallel-item:only-child::after {width: 0;}#sk-container-id-5 div.sk-dashed-wrapped {border: 1px dashed gray;margin: 0 0.4em 0.5em 0.4em;box-sizing: border-box;padding-bottom: 0.4em;background-color: white;}#sk-container-id-5 div.sk-label label {font-family: monospace;font-weight: bold;display: inline-block;line-height: 1.2em;}#sk-container-id-5 div.sk-label-container {text-align: center;}#sk-container-id-5 div.sk-container {/* jupyter's `normalize.less` sets `[hidden] { display: none; }` but bootstrap.min.css set `[hidden] { display: none !important; }` so we also need the `!important` here to be able to override the default hidden behavior on the sphinx rendered scikit-learn.org. See: https://github.com/scikit-learn/scikit-learn/issues/21755 */display: inline-block !important;position: relative;}#sk-container-id-5 div.sk-text-repr-fallback {display: none;}</style><div id=\"sk-container-id-5\" class=\"sk-top-container\"><div class=\"sk-text-repr-fallback\"><pre>Pipeline(steps=[(&#x27;columntransformer&#x27;,\n",
       "                 ColumnTransformer(transformers=[(&#x27;onehotencoder&#x27;,\n",
       "                                                  OneHotEncoder(handle_unknown=&#x27;ignore&#x27;),\n",
       "                                                  [&#x27;city&#x27;, &#x27;gender&#x27;,\n",
       "                                                   &#x27;relevent_experience&#x27;,\n",
       "                                                   &#x27;enrolled_university&#x27;,\n",
       "                                                   &#x27;education_level&#x27;,\n",
       "                                                   &#x27;major_discipline&#x27;,\n",
       "                                                   &#x27;experience&#x27;, &#x27;company_size&#x27;,\n",
       "                                                   &#x27;company_type&#x27;,\n",
       "                                                   &#x27;last_new_job&#x27;]),\n",
       "                                                 (&#x27;standardscaler&#x27;,\n",
       "                                                  StandardScaler(),\n",
       "                                                  [&#x27;city_development_index&#x27;,\n",
       "                                                   &#x27;training_hours&#x27;])])),\n",
       "                (&#x27;lgbmclassifier&#x27;, LGBMClassifier(random_state=42))])</pre><b>In a Jupyter environment, please rerun this cell to show the HTML representation or trust the notebook. <br />On GitHub, the HTML representation is unable to render, please try loading this page with nbviewer.org.</b></div><div class=\"sk-container\" hidden><div class=\"sk-item sk-dashed-wrapped\"><div class=\"sk-label-container\"><div class=\"sk-label sk-toggleable\"><input class=\"sk-toggleable__control sk-hidden--visually\" id=\"sk-estimator-id-25\" type=\"checkbox\" ><label for=\"sk-estimator-id-25\" class=\"sk-toggleable__label sk-toggleable__label-arrow\">Pipeline</label><div class=\"sk-toggleable__content\"><pre>Pipeline(steps=[(&#x27;columntransformer&#x27;,\n",
       "                 ColumnTransformer(transformers=[(&#x27;onehotencoder&#x27;,\n",
       "                                                  OneHotEncoder(handle_unknown=&#x27;ignore&#x27;),\n",
       "                                                  [&#x27;city&#x27;, &#x27;gender&#x27;,\n",
       "                                                   &#x27;relevent_experience&#x27;,\n",
       "                                                   &#x27;enrolled_university&#x27;,\n",
       "                                                   &#x27;education_level&#x27;,\n",
       "                                                   &#x27;major_discipline&#x27;,\n",
       "                                                   &#x27;experience&#x27;, &#x27;company_size&#x27;,\n",
       "                                                   &#x27;company_type&#x27;,\n",
       "                                                   &#x27;last_new_job&#x27;]),\n",
       "                                                 (&#x27;standardscaler&#x27;,\n",
       "                                                  StandardScaler(),\n",
       "                                                  [&#x27;city_development_index&#x27;,\n",
       "                                                   &#x27;training_hours&#x27;])])),\n",
       "                (&#x27;lgbmclassifier&#x27;, LGBMClassifier(random_state=42))])</pre></div></div></div><div class=\"sk-serial\"><div class=\"sk-item sk-dashed-wrapped\"><div class=\"sk-label-container\"><div class=\"sk-label sk-toggleable\"><input class=\"sk-toggleable__control sk-hidden--visually\" id=\"sk-estimator-id-26\" type=\"checkbox\" ><label for=\"sk-estimator-id-26\" class=\"sk-toggleable__label sk-toggleable__label-arrow\">columntransformer: ColumnTransformer</label><div class=\"sk-toggleable__content\"><pre>ColumnTransformer(transformers=[(&#x27;onehotencoder&#x27;,\n",
       "                                 OneHotEncoder(handle_unknown=&#x27;ignore&#x27;),\n",
       "                                 [&#x27;city&#x27;, &#x27;gender&#x27;, &#x27;relevent_experience&#x27;,\n",
       "                                  &#x27;enrolled_university&#x27;, &#x27;education_level&#x27;,\n",
       "                                  &#x27;major_discipline&#x27;, &#x27;experience&#x27;,\n",
       "                                  &#x27;company_size&#x27;, &#x27;company_type&#x27;,\n",
       "                                  &#x27;last_new_job&#x27;]),\n",
       "                                (&#x27;standardscaler&#x27;, StandardScaler(),\n",
       "                                 [&#x27;city_development_index&#x27;, &#x27;training_hours&#x27;])])</pre></div></div></div><div class=\"sk-parallel\"><div class=\"sk-parallel-item\"><div class=\"sk-item\"><div class=\"sk-label-container\"><div class=\"sk-label sk-toggleable\"><input class=\"sk-toggleable__control sk-hidden--visually\" id=\"sk-estimator-id-27\" type=\"checkbox\" ><label for=\"sk-estimator-id-27\" class=\"sk-toggleable__label sk-toggleable__label-arrow\">onehotencoder</label><div class=\"sk-toggleable__content\"><pre>[&#x27;city&#x27;, &#x27;gender&#x27;, &#x27;relevent_experience&#x27;, &#x27;enrolled_university&#x27;, &#x27;education_level&#x27;, &#x27;major_discipline&#x27;, &#x27;experience&#x27;, &#x27;company_size&#x27;, &#x27;company_type&#x27;, &#x27;last_new_job&#x27;]</pre></div></div></div><div class=\"sk-serial\"><div class=\"sk-item\"><div class=\"sk-estimator sk-toggleable\"><input class=\"sk-toggleable__control sk-hidden--visually\" id=\"sk-estimator-id-28\" type=\"checkbox\" ><label for=\"sk-estimator-id-28\" class=\"sk-toggleable__label sk-toggleable__label-arrow\">OneHotEncoder</label><div class=\"sk-toggleable__content\"><pre>OneHotEncoder(handle_unknown=&#x27;ignore&#x27;)</pre></div></div></div></div></div></div><div class=\"sk-parallel-item\"><div class=\"sk-item\"><div class=\"sk-label-container\"><div class=\"sk-label sk-toggleable\"><input class=\"sk-toggleable__control sk-hidden--visually\" id=\"sk-estimator-id-29\" type=\"checkbox\" ><label for=\"sk-estimator-id-29\" class=\"sk-toggleable__label sk-toggleable__label-arrow\">standardscaler</label><div class=\"sk-toggleable__content\"><pre>[&#x27;city_development_index&#x27;, &#x27;training_hours&#x27;]</pre></div></div></div><div class=\"sk-serial\"><div class=\"sk-item\"><div class=\"sk-estimator sk-toggleable\"><input class=\"sk-toggleable__control sk-hidden--visually\" id=\"sk-estimator-id-30\" type=\"checkbox\" ><label for=\"sk-estimator-id-30\" class=\"sk-toggleable__label sk-toggleable__label-arrow\">StandardScaler</label><div class=\"sk-toggleable__content\"><pre>StandardScaler()</pre></div></div></div></div></div></div></div></div><div class=\"sk-item\"><div class=\"sk-estimator sk-toggleable\"><input class=\"sk-toggleable__control sk-hidden--visually\" id=\"sk-estimator-id-31\" type=\"checkbox\" ><label for=\"sk-estimator-id-31\" class=\"sk-toggleable__label sk-toggleable__label-arrow\">LGBMClassifier</label><div class=\"sk-toggleable__content\"><pre>LGBMClassifier(random_state=42)</pre></div></div></div></div></div></div></div>"
      ],
      "text/plain": [
       "Pipeline(steps=[('columntransformer',\n",
       "                 ColumnTransformer(transformers=[('onehotencoder',\n",
       "                                                  OneHotEncoder(handle_unknown='ignore'),\n",
       "                                                  ['city', 'gender',\n",
       "                                                   'relevent_experience',\n",
       "                                                   'enrolled_university',\n",
       "                                                   'education_level',\n",
       "                                                   'major_discipline',\n",
       "                                                   'experience', 'company_size',\n",
       "                                                   'company_type',\n",
       "                                                   'last_new_job']),\n",
       "                                                 ('standardscaler',\n",
       "                                                  StandardScaler(),\n",
       "                                                  ['city_development_index',\n",
       "                                                   'training_hours'])])),\n",
       "                ('lgbmclassifier', LGBMClassifier(random_state=42))])"
      ]
     },
     "execution_count": 52,
     "metadata": {},
     "output_type": "execute_result"
    }
   ],
   "source": [
    "pipeline_com_modelo = make_pipeline(pipeline_inicial, model)\n",
    "\n",
    "pipeline_com_modelo"
   ]
  },
  {
   "cell_type": "code",
   "execution_count": 53,
   "id": "3aa9b750-7b4a-4f60-b178-b486f9216832",
   "metadata": {},
   "outputs": [
    {
     "data": {
      "text/html": [
       "<style>#sk-container-id-6 {color: black;background-color: white;}#sk-container-id-6 pre{padding: 0;}#sk-container-id-6 div.sk-toggleable {background-color: white;}#sk-container-id-6 label.sk-toggleable__label {cursor: pointer;display: block;width: 100%;margin-bottom: 0;padding: 0.3em;box-sizing: border-box;text-align: center;}#sk-container-id-6 label.sk-toggleable__label-arrow:before {content: \"▸\";float: left;margin-right: 0.25em;color: #696969;}#sk-container-id-6 label.sk-toggleable__label-arrow:hover:before {color: black;}#sk-container-id-6 div.sk-estimator:hover label.sk-toggleable__label-arrow:before {color: black;}#sk-container-id-6 div.sk-toggleable__content {max-height: 0;max-width: 0;overflow: hidden;text-align: left;background-color: #f0f8ff;}#sk-container-id-6 div.sk-toggleable__content pre {margin: 0.2em;color: black;border-radius: 0.25em;background-color: #f0f8ff;}#sk-container-id-6 input.sk-toggleable__control:checked~div.sk-toggleable__content {max-height: 200px;max-width: 100%;overflow: auto;}#sk-container-id-6 input.sk-toggleable__control:checked~label.sk-toggleable__label-arrow:before {content: \"▾\";}#sk-container-id-6 div.sk-estimator input.sk-toggleable__control:checked~label.sk-toggleable__label {background-color: #d4ebff;}#sk-container-id-6 div.sk-label input.sk-toggleable__control:checked~label.sk-toggleable__label {background-color: #d4ebff;}#sk-container-id-6 input.sk-hidden--visually {border: 0;clip: rect(1px 1px 1px 1px);clip: rect(1px, 1px, 1px, 1px);height: 1px;margin: -1px;overflow: hidden;padding: 0;position: absolute;width: 1px;}#sk-container-id-6 div.sk-estimator {font-family: monospace;background-color: #f0f8ff;border: 1px dotted black;border-radius: 0.25em;box-sizing: border-box;margin-bottom: 0.5em;}#sk-container-id-6 div.sk-estimator:hover {background-color: #d4ebff;}#sk-container-id-6 div.sk-parallel-item::after {content: \"\";width: 100%;border-bottom: 1px solid gray;flex-grow: 1;}#sk-container-id-6 div.sk-label:hover label.sk-toggleable__label {background-color: #d4ebff;}#sk-container-id-6 div.sk-serial::before {content: \"\";position: absolute;border-left: 1px solid gray;box-sizing: border-box;top: 0;bottom: 0;left: 50%;z-index: 0;}#sk-container-id-6 div.sk-serial {display: flex;flex-direction: column;align-items: center;background-color: white;padding-right: 0.2em;padding-left: 0.2em;position: relative;}#sk-container-id-6 div.sk-item {position: relative;z-index: 1;}#sk-container-id-6 div.sk-parallel {display: flex;align-items: stretch;justify-content: center;background-color: white;position: relative;}#sk-container-id-6 div.sk-item::before, #sk-container-id-6 div.sk-parallel-item::before {content: \"\";position: absolute;border-left: 1px solid gray;box-sizing: border-box;top: 0;bottom: 0;left: 50%;z-index: -1;}#sk-container-id-6 div.sk-parallel-item {display: flex;flex-direction: column;z-index: 1;position: relative;background-color: white;}#sk-container-id-6 div.sk-parallel-item:first-child::after {align-self: flex-end;width: 50%;}#sk-container-id-6 div.sk-parallel-item:last-child::after {align-self: flex-start;width: 50%;}#sk-container-id-6 div.sk-parallel-item:only-child::after {width: 0;}#sk-container-id-6 div.sk-dashed-wrapped {border: 1px dashed gray;margin: 0 0.4em 0.5em 0.4em;box-sizing: border-box;padding-bottom: 0.4em;background-color: white;}#sk-container-id-6 div.sk-label label {font-family: monospace;font-weight: bold;display: inline-block;line-height: 1.2em;}#sk-container-id-6 div.sk-label-container {text-align: center;}#sk-container-id-6 div.sk-container {/* jupyter's `normalize.less` sets `[hidden] { display: none; }` but bootstrap.min.css set `[hidden] { display: none !important; }` so we also need the `!important` here to be able to override the default hidden behavior on the sphinx rendered scikit-learn.org. See: https://github.com/scikit-learn/scikit-learn/issues/21755 */display: inline-block !important;position: relative;}#sk-container-id-6 div.sk-text-repr-fallback {display: none;}</style><div id=\"sk-container-id-6\" class=\"sk-top-container\"><div class=\"sk-text-repr-fallback\"><pre>Pipeline(steps=[(&#x27;columntransformer&#x27;,\n",
       "                 ColumnTransformer(transformers=[(&#x27;onehotencoder&#x27;,\n",
       "                                                  OneHotEncoder(handle_unknown=&#x27;ignore&#x27;),\n",
       "                                                  [&#x27;city&#x27;, &#x27;gender&#x27;,\n",
       "                                                   &#x27;relevent_experience&#x27;,\n",
       "                                                   &#x27;enrolled_university&#x27;,\n",
       "                                                   &#x27;education_level&#x27;,\n",
       "                                                   &#x27;major_discipline&#x27;,\n",
       "                                                   &#x27;experience&#x27;, &#x27;company_size&#x27;,\n",
       "                                                   &#x27;company_type&#x27;,\n",
       "                                                   &#x27;last_new_job&#x27;]),\n",
       "                                                 (&#x27;standardscaler&#x27;,\n",
       "                                                  StandardScaler(),\n",
       "                                                  [&#x27;city_development_index&#x27;,\n",
       "                                                   &#x27;training_hours&#x27;])])),\n",
       "                (&#x27;lgbmclassifier&#x27;, LGBMClassifier(random_state=42))])</pre><b>In a Jupyter environment, please rerun this cell to show the HTML representation or trust the notebook. <br />On GitHub, the HTML representation is unable to render, please try loading this page with nbviewer.org.</b></div><div class=\"sk-container\" hidden><div class=\"sk-item sk-dashed-wrapped\"><div class=\"sk-label-container\"><div class=\"sk-label sk-toggleable\"><input class=\"sk-toggleable__control sk-hidden--visually\" id=\"sk-estimator-id-32\" type=\"checkbox\" ><label for=\"sk-estimator-id-32\" class=\"sk-toggleable__label sk-toggleable__label-arrow\">Pipeline</label><div class=\"sk-toggleable__content\"><pre>Pipeline(steps=[(&#x27;columntransformer&#x27;,\n",
       "                 ColumnTransformer(transformers=[(&#x27;onehotencoder&#x27;,\n",
       "                                                  OneHotEncoder(handle_unknown=&#x27;ignore&#x27;),\n",
       "                                                  [&#x27;city&#x27;, &#x27;gender&#x27;,\n",
       "                                                   &#x27;relevent_experience&#x27;,\n",
       "                                                   &#x27;enrolled_university&#x27;,\n",
       "                                                   &#x27;education_level&#x27;,\n",
       "                                                   &#x27;major_discipline&#x27;,\n",
       "                                                   &#x27;experience&#x27;, &#x27;company_size&#x27;,\n",
       "                                                   &#x27;company_type&#x27;,\n",
       "                                                   &#x27;last_new_job&#x27;]),\n",
       "                                                 (&#x27;standardscaler&#x27;,\n",
       "                                                  StandardScaler(),\n",
       "                                                  [&#x27;city_development_index&#x27;,\n",
       "                                                   &#x27;training_hours&#x27;])])),\n",
       "                (&#x27;lgbmclassifier&#x27;, LGBMClassifier(random_state=42))])</pre></div></div></div><div class=\"sk-serial\"><div class=\"sk-item sk-dashed-wrapped\"><div class=\"sk-label-container\"><div class=\"sk-label sk-toggleable\"><input class=\"sk-toggleable__control sk-hidden--visually\" id=\"sk-estimator-id-33\" type=\"checkbox\" ><label for=\"sk-estimator-id-33\" class=\"sk-toggleable__label sk-toggleable__label-arrow\">columntransformer: ColumnTransformer</label><div class=\"sk-toggleable__content\"><pre>ColumnTransformer(transformers=[(&#x27;onehotencoder&#x27;,\n",
       "                                 OneHotEncoder(handle_unknown=&#x27;ignore&#x27;),\n",
       "                                 [&#x27;city&#x27;, &#x27;gender&#x27;, &#x27;relevent_experience&#x27;,\n",
       "                                  &#x27;enrolled_university&#x27;, &#x27;education_level&#x27;,\n",
       "                                  &#x27;major_discipline&#x27;, &#x27;experience&#x27;,\n",
       "                                  &#x27;company_size&#x27;, &#x27;company_type&#x27;,\n",
       "                                  &#x27;last_new_job&#x27;]),\n",
       "                                (&#x27;standardscaler&#x27;, StandardScaler(),\n",
       "                                 [&#x27;city_development_index&#x27;, &#x27;training_hours&#x27;])])</pre></div></div></div><div class=\"sk-parallel\"><div class=\"sk-parallel-item\"><div class=\"sk-item\"><div class=\"sk-label-container\"><div class=\"sk-label sk-toggleable\"><input class=\"sk-toggleable__control sk-hidden--visually\" id=\"sk-estimator-id-34\" type=\"checkbox\" ><label for=\"sk-estimator-id-34\" class=\"sk-toggleable__label sk-toggleable__label-arrow\">onehotencoder</label><div class=\"sk-toggleable__content\"><pre>[&#x27;city&#x27;, &#x27;gender&#x27;, &#x27;relevent_experience&#x27;, &#x27;enrolled_university&#x27;, &#x27;education_level&#x27;, &#x27;major_discipline&#x27;, &#x27;experience&#x27;, &#x27;company_size&#x27;, &#x27;company_type&#x27;, &#x27;last_new_job&#x27;]</pre></div></div></div><div class=\"sk-serial\"><div class=\"sk-item\"><div class=\"sk-estimator sk-toggleable\"><input class=\"sk-toggleable__control sk-hidden--visually\" id=\"sk-estimator-id-35\" type=\"checkbox\" ><label for=\"sk-estimator-id-35\" class=\"sk-toggleable__label sk-toggleable__label-arrow\">OneHotEncoder</label><div class=\"sk-toggleable__content\"><pre>OneHotEncoder(handle_unknown=&#x27;ignore&#x27;)</pre></div></div></div></div></div></div><div class=\"sk-parallel-item\"><div class=\"sk-item\"><div class=\"sk-label-container\"><div class=\"sk-label sk-toggleable\"><input class=\"sk-toggleable__control sk-hidden--visually\" id=\"sk-estimator-id-36\" type=\"checkbox\" ><label for=\"sk-estimator-id-36\" class=\"sk-toggleable__label sk-toggleable__label-arrow\">standardscaler</label><div class=\"sk-toggleable__content\"><pre>[&#x27;city_development_index&#x27;, &#x27;training_hours&#x27;]</pre></div></div></div><div class=\"sk-serial\"><div class=\"sk-item\"><div class=\"sk-estimator sk-toggleable\"><input class=\"sk-toggleable__control sk-hidden--visually\" id=\"sk-estimator-id-37\" type=\"checkbox\" ><label for=\"sk-estimator-id-37\" class=\"sk-toggleable__label sk-toggleable__label-arrow\">StandardScaler</label><div class=\"sk-toggleable__content\"><pre>StandardScaler()</pre></div></div></div></div></div></div></div></div><div class=\"sk-item\"><div class=\"sk-estimator sk-toggleable\"><input class=\"sk-toggleable__control sk-hidden--visually\" id=\"sk-estimator-id-38\" type=\"checkbox\" ><label for=\"sk-estimator-id-38\" class=\"sk-toggleable__label sk-toggleable__label-arrow\">LGBMClassifier</label><div class=\"sk-toggleable__content\"><pre>LGBMClassifier(random_state=42)</pre></div></div></div></div></div></div></div>"
      ],
      "text/plain": [
       "Pipeline(steps=[('columntransformer',\n",
       "                 ColumnTransformer(transformers=[('onehotencoder',\n",
       "                                                  OneHotEncoder(handle_unknown='ignore'),\n",
       "                                                  ['city', 'gender',\n",
       "                                                   'relevent_experience',\n",
       "                                                   'enrolled_university',\n",
       "                                                   'education_level',\n",
       "                                                   'major_discipline',\n",
       "                                                   'experience', 'company_size',\n",
       "                                                   'company_type',\n",
       "                                                   'last_new_job']),\n",
       "                                                 ('standardscaler',\n",
       "                                                  StandardScaler(),\n",
       "                                                  ['city_development_index',\n",
       "                                                   'training_hours'])])),\n",
       "                ('lgbmclassifier', LGBMClassifier(random_state=42))])"
      ]
     },
     "execution_count": 53,
     "metadata": {},
     "output_type": "execute_result"
    }
   ],
   "source": [
    "pipeline_com_modelo.fit(X_train, y_train)"
   ]
  },
  {
   "cell_type": "code",
   "execution_count": 55,
   "id": "7969bf29-aaad-41fb-93e6-b4a27f1f936f",
   "metadata": {},
   "outputs": [
    {
     "data": {
      "text/plain": [
       "array([0., 0., 0., ..., 0., 0., 0.])"
      ]
     },
     "execution_count": 55,
     "metadata": {},
     "output_type": "execute_result"
    }
   ],
   "source": [
    "y_pred = pipeline_com_modelo.predict(X_test)\n",
    "\n",
    "y_pred"
   ]
  },
  {
   "cell_type": "code",
   "execution_count": 56,
   "id": "fcedcc5e-521f-4219-b2c2-5992933210da",
   "metadata": {},
   "outputs": [
    {
     "data": {
      "text/html": [
       "<div>\n",
       "<style scoped>\n",
       "    .dataframe tbody tr th:only-of-type {\n",
       "        vertical-align: middle;\n",
       "    }\n",
       "\n",
       "    .dataframe tbody tr th {\n",
       "        vertical-align: top;\n",
       "    }\n",
       "\n",
       "    .dataframe thead th {\n",
       "        text-align: right;\n",
       "    }\n",
       "</style>\n",
       "<table border=\"1\" class=\"dataframe\">\n",
       "  <thead>\n",
       "    <tr style=\"text-align: right;\">\n",
       "      <th>Predito</th>\n",
       "      <th>0.0</th>\n",
       "      <th>1.0</th>\n",
       "      <th>All</th>\n",
       "    </tr>\n",
       "    <tr>\n",
       "      <th>Vida real</th>\n",
       "      <th></th>\n",
       "      <th></th>\n",
       "      <th></th>\n",
       "    </tr>\n",
       "  </thead>\n",
       "  <tbody>\n",
       "    <tr>\n",
       "      <th>0.0</th>\n",
       "      <td>3733</td>\n",
       "      <td>582</td>\n",
       "      <td>4315</td>\n",
       "    </tr>\n",
       "    <tr>\n",
       "      <th>1.0</th>\n",
       "      <td>581</td>\n",
       "      <td>852</td>\n",
       "      <td>1433</td>\n",
       "    </tr>\n",
       "    <tr>\n",
       "      <th>All</th>\n",
       "      <td>4314</td>\n",
       "      <td>1434</td>\n",
       "      <td>5748</td>\n",
       "    </tr>\n",
       "  </tbody>\n",
       "</table>\n",
       "</div>"
      ],
      "text/plain": [
       "Predito     0.0   1.0   All\n",
       "Vida real                  \n",
       "0.0        3733   582  4315\n",
       "1.0         581   852  1433\n",
       "All        4314  1434  5748"
      ]
     },
     "execution_count": 56,
     "metadata": {},
     "output_type": "execute_result"
    }
   ],
   "source": [
    "pd.crosstab(y_test, y_pred, rownames = ['Vida real'], colnames = ['Predito'], margins = True)"
   ]
  },
  {
   "cell_type": "code",
   "execution_count": 57,
   "id": "1fd1ef06-d2eb-4fed-b81a-27c860e2ad3a",
   "metadata": {},
   "outputs": [
    {
     "name": "stdout",
     "output_type": "stream",
     "text": [
      "              precision    recall  f1-score   support\n",
      "\n",
      "         0.0       0.87      0.87      0.87      4315\n",
      "         1.0       0.59      0.59      0.59      1433\n",
      "\n",
      "    accuracy                           0.80      5748\n",
      "   macro avg       0.73      0.73      0.73      5748\n",
      "weighted avg       0.80      0.80      0.80      5748\n",
      "\n"
     ]
    }
   ],
   "source": [
    "print(classification_report(y_true = y_test, y_pred = y_pred))"
   ]
  },
  {
   "cell_type": "code",
   "execution_count": 60,
   "id": "82ff075b-a774-436d-aaa8-c2d081c00586",
   "metadata": {},
   "outputs": [
    {
     "data": {
      "text/plain": [
       "79.7668754349339"
      ]
     },
     "execution_count": 60,
     "metadata": {},
     "output_type": "execute_result"
    }
   ],
   "source": [
    "accuracy_score(y_true = y_test, y_pred = y_pred) * 100"
   ]
  },
  {
   "cell_type": "code",
   "execution_count": 61,
   "id": "955a08ad-84c9-40d4-9654-10b011c1c316",
   "metadata": {},
   "outputs": [
    {
     "data": {
      "text/plain": [
       "59.45568736915562"
      ]
     },
     "execution_count": 61,
     "metadata": {},
     "output_type": "execute_result"
    }
   ],
   "source": [
    "recall_score(y_true = y_test, y_pred = y_pred) * 100"
   ]
  },
  {
   "cell_type": "code",
   "execution_count": 62,
   "id": "87f2b720-c210-45c2-83fb-fa518af37a1a",
   "metadata": {},
   "outputs": [
    {
     "data": {
      "text/plain": [
       "59.41422594142259"
      ]
     },
     "execution_count": 62,
     "metadata": {},
     "output_type": "execute_result"
    }
   ],
   "source": [
    "precision_score(y_true = y_test, y_pred = y_pred) * 100"
   ]
  },
  {
   "cell_type": "code",
   "execution_count": 63,
   "id": "6be9002b-c7e5-42d7-90ee-827c0790ed66",
   "metadata": {},
   "outputs": [
    {
     "data": {
      "text/plain": [
       "59.43494942448553"
      ]
     },
     "execution_count": 63,
     "metadata": {},
     "output_type": "execute_result"
    }
   ],
   "source": [
    "f1_score(y_true = y_test, y_pred = y_pred) * 100"
   ]
  },
  {
   "cell_type": "markdown",
   "id": "d7e1a19a-9bf5-407f-a61d-ccb8fed15c6a",
   "metadata": {},
   "source": [
    "## Próximos passos:\n",
    "\n",
    "1. Tunar o modelo\n",
    "2. Aplicar os encoders categóricos\n",
    "3. Cross validation\n",
    "4. Avaliar as métricas comparando com o novo modelo e a baseline"
   ]
  },
  {
   "cell_type": "code",
   "execution_count": null,
   "id": "4c7607e3-c439-4dda-9441-2322f7380be7",
   "metadata": {},
   "outputs": [],
   "source": [
    "# IDEIA DO PIPELINE: Fazer a passo a passo o que o modelo vai fazer\n",
    "# - Excluir uma variável\n",
    "# - Aplicar a função que add_feature_null_column\n",
    "# - Aplicar a função que add_feature_null_qualitative\n",
    "# - Aplicar a função que add_feature_null_quantitativa\n",
    "# - Utilizar os encoders nas features qualitativas\n",
    "\n",
    "Pipeline()"
   ]
  },
  {
   "cell_type": "markdown",
   "id": "5abf8ac6-1a68-4332-aa8a-235de8ad525c",
   "metadata": {},
   "source": [
    "- enrollee_id: excluir\n",
    "- city: codificar ela de texto -> número inteiro , testar o encoder - tratar os nulos\n",
    "- city_development_index: manter e tratar os nulos\n",
    "- gender: testar todos os encoders, tratar os nulos\n",
    "- relevent_experience: testar todos os encoders, tratar os nulos\n",
    "- enrolled_university: testar todos os encoders, tratar os nulos\n",
    "- education_level: testar todos os encoders, tratar os nulos\n",
    "- major_discipline: testar todos os encoders, tratar os nulos\n",
    "- experience: testar todos os encoders, tratar os nulos\n",
    "- company_size: testar todos os encoders, tratar os nulos\n",
    "- company_type: testar todos os encoders, tratar os nulos\n",
    "- last_new_job: testar todos os encoders, tratar os nulos\n",
    "- training_hours: manter e tratar os nulos"
   ]
  },
  {
   "cell_type": "code",
   "execution_count": null,
   "id": "d05de726-bab0-46f1-ae2c-60894c02c28f",
   "metadata": {},
   "outputs": [],
   "source": []
  }
 ],
 "metadata": {
  "kernelspec": {
   "display_name": "Python 3 (ipykernel)",
   "language": "python",
   "name": "python3"
  },
  "language_info": {
   "codemirror_mode": {
    "name": "ipython",
    "version": 3
   },
   "file_extension": ".py",
   "mimetype": "text/x-python",
   "name": "python",
   "nbconvert_exporter": "python",
   "pygments_lexer": "ipython3",
   "version": "3.10.6"
  }
 },
 "nbformat": 4,
 "nbformat_minor": 5
}
