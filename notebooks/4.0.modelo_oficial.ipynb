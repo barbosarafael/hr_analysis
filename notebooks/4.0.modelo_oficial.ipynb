{
 "cells": [
  {
   "cell_type": "markdown",
   "id": "dcf5fadc-092e-4f24-b906-ca6b0479a6c8",
   "metadata": {},
   "source": [
    "# Modelo oficial\n",
    "\n",
    "- **Objetivo:** Identificar se a pessoa quer ou não trocar de trabalho baseado em suas características\n",
    "\n",
    "- **Métricas**: \n",
    "    - Acurácia\n",
    "    - Recall\n",
    "    - Precision\n",
    "    - F1-score\n",
    "\n",
    "- **Modelo de ML**: Light Gradient Boosting Machine"
   ]
  },
  {
   "cell_type": "markdown",
   "id": "3d844831-3c11-406c-95fa-cb455de99e5b",
   "metadata": {},
   "source": [
    "## 0. Setup"
   ]
  },
  {
   "cell_type": "code",
   "execution_count": 1,
   "id": "b97cc2ad-a30b-4ba6-b71c-50381a1cf9bb",
   "metadata": {},
   "outputs": [],
   "source": [
    "import pandas as pd\n",
    "import numpy as np"
   ]
  },
  {
   "cell_type": "markdown",
   "id": "9cb7ef1f-6996-47fa-805c-b51dcbbcf56c",
   "metadata": {},
   "source": [
    "## 1. Carregando os dados"
   ]
  },
  {
   "cell_type": "code",
   "execution_count": 2,
   "id": "b1fa38c1-236e-4ea1-b01e-36881f8d4723",
   "metadata": {},
   "outputs": [
    {
     "data": {
      "text/html": [
       "<div>\n",
       "<style scoped>\n",
       "    .dataframe tbody tr th:only-of-type {\n",
       "        vertical-align: middle;\n",
       "    }\n",
       "\n",
       "    .dataframe tbody tr th {\n",
       "        vertical-align: top;\n",
       "    }\n",
       "\n",
       "    .dataframe thead th {\n",
       "        text-align: right;\n",
       "    }\n",
       "</style>\n",
       "<table border=\"1\" class=\"dataframe\">\n",
       "  <thead>\n",
       "    <tr style=\"text-align: right;\">\n",
       "      <th></th>\n",
       "      <th>enrollee_id</th>\n",
       "      <th>city</th>\n",
       "      <th>city_development_index</th>\n",
       "      <th>gender</th>\n",
       "      <th>relevent_experience</th>\n",
       "      <th>enrolled_university</th>\n",
       "      <th>education_level</th>\n",
       "      <th>major_discipline</th>\n",
       "      <th>experience</th>\n",
       "      <th>company_size</th>\n",
       "      <th>company_type</th>\n",
       "      <th>last_new_job</th>\n",
       "      <th>training_hours</th>\n",
       "      <th>target</th>\n",
       "    </tr>\n",
       "  </thead>\n",
       "  <tbody>\n",
       "    <tr>\n",
       "      <th>0</th>\n",
       "      <td>8949</td>\n",
       "      <td>city_103</td>\n",
       "      <td>0.920</td>\n",
       "      <td>Male</td>\n",
       "      <td>Has relevent experience</td>\n",
       "      <td>no_enrollment</td>\n",
       "      <td>Graduate</td>\n",
       "      <td>STEM</td>\n",
       "      <td>&gt;20</td>\n",
       "      <td>NaN</td>\n",
       "      <td>NaN</td>\n",
       "      <td>1</td>\n",
       "      <td>36</td>\n",
       "      <td>1.0</td>\n",
       "    </tr>\n",
       "    <tr>\n",
       "      <th>1</th>\n",
       "      <td>29725</td>\n",
       "      <td>city_40</td>\n",
       "      <td>0.776</td>\n",
       "      <td>Male</td>\n",
       "      <td>No relevent experience</td>\n",
       "      <td>no_enrollment</td>\n",
       "      <td>Graduate</td>\n",
       "      <td>STEM</td>\n",
       "      <td>15</td>\n",
       "      <td>50-99</td>\n",
       "      <td>Pvt Ltd</td>\n",
       "      <td>&gt;4</td>\n",
       "      <td>47</td>\n",
       "      <td>0.0</td>\n",
       "    </tr>\n",
       "    <tr>\n",
       "      <th>2</th>\n",
       "      <td>11561</td>\n",
       "      <td>city_21</td>\n",
       "      <td>0.624</td>\n",
       "      <td>NaN</td>\n",
       "      <td>No relevent experience</td>\n",
       "      <td>Full time course</td>\n",
       "      <td>Graduate</td>\n",
       "      <td>STEM</td>\n",
       "      <td>5</td>\n",
       "      <td>NaN</td>\n",
       "      <td>NaN</td>\n",
       "      <td>never</td>\n",
       "      <td>83</td>\n",
       "      <td>0.0</td>\n",
       "    </tr>\n",
       "  </tbody>\n",
       "</table>\n",
       "</div>"
      ],
      "text/plain": [
       "   enrollee_id      city  city_development_index gender  \\\n",
       "0         8949  city_103                   0.920   Male   \n",
       "1        29725   city_40                   0.776   Male   \n",
       "2        11561   city_21                   0.624    NaN   \n",
       "\n",
       "       relevent_experience enrolled_university education_level  \\\n",
       "0  Has relevent experience       no_enrollment        Graduate   \n",
       "1   No relevent experience       no_enrollment        Graduate   \n",
       "2   No relevent experience    Full time course        Graduate   \n",
       "\n",
       "  major_discipline experience company_size company_type last_new_job  \\\n",
       "0             STEM        >20          NaN          NaN            1   \n",
       "1             STEM         15        50-99      Pvt Ltd           >4   \n",
       "2             STEM          5          NaN          NaN        never   \n",
       "\n",
       "   training_hours  target  \n",
       "0              36     1.0  \n",
       "1              47     0.0  \n",
       "2              83     0.0  "
      ]
     },
     "execution_count": 2,
     "metadata": {},
     "output_type": "execute_result"
    }
   ],
   "source": [
    "dados = pd.read_csv(filepath_or_buffer = '../data/raw/aug_train.csv')\n",
    "\n",
    "dados.head(3)"
   ]
  },
  {
   "cell_type": "markdown",
   "id": "709864bf-9b69-4c37-8c2a-2ed832bd389c",
   "metadata": {},
   "source": [
    "## 2. Criar as novas features"
   ]
  },
  {
   "cell_type": "markdown",
   "id": "abecbfe1-ff9d-41ef-9a96-adbc13c9f485",
   "metadata": {},
   "source": [
    "### 2.1. Agrupar os valores de company_size em PP, P, M e G"
   ]
  },
  {
   "cell_type": "code",
   "execution_count": 32,
   "id": "e0007962-1ba7-4c70-895b-2626728effd3",
   "metadata": {},
   "outputs": [],
   "source": [
    "def add_feature_company_size(df):\n",
    "    \n",
    "    \"\"\"\n",
    "    # PP: Até 50 pessoas\n",
    "    # P: Vai de 50 até 500\n",
    "    # M: Vai de 500 até 4999\n",
    "    # G: Acima de 5000\n",
    "    \"\"\"\n",
    "    \n",
    "    df1 = df.copy()\n",
    "    \n",
    "    df1['company_size_cat'] = np.where(dados['company_size'].isin(['<10', '10/49']), 'PP', \n",
    "                                       np.where(dados['company_size'].isin(['50-99', '100-500']), 'P',\n",
    "                                                np.where(dados['company_size'].isin(['500-999', '1000-4999']), 'M',\n",
    "                                                         np.where(dados['company_size'].isin(['5000-9999', '10000+']), 'GG', \n",
    "                                                                  np.nan))))\n",
    "    \n",
    "    return df1"
   ]
  },
  {
   "cell_type": "markdown",
   "id": "8d5b0bc5-9d02-4c10-8b6f-47317f6f5dd4",
   "metadata": {},
   "source": [
    "### 2.2. Fazer uma feature que divide a quantidade de horas treinadas por 24 (resultados em quantos dias de treinamento ela participou)"
   ]
  },
  {
   "cell_type": "code",
   "execution_count": 35,
   "id": "96db9110-73a9-494e-8abd-59857227b557",
   "metadata": {},
   "outputs": [],
   "source": [
    "def add_feature_training_hours(df):\n",
    "    \n",
    "    df1 = df.copy()\n",
    "    \n",
    "    df1['days_training_hours'] = df1['training_hours'] / 24\n",
    "    \n",
    "    return df1"
   ]
  },
  {
   "cell_type": "markdown",
   "id": "26a843dc-5f19-46e8-b0db-3670a8f0ff38",
   "metadata": {
    "tags": []
   },
   "source": [
    "### 2.3. Criar uma variável categórica que diz se a pessoa é nova ou não no mercado de trabalho. Ex.: Se a pessoa tem 3 ou menos anos de experiência, ela é nova, senão ela é \"velha\""
   ]
  },
  {
   "cell_type": "code",
   "execution_count": 45,
   "id": "d6e692bb-4421-4196-aac4-0b1dc3e0ac4e",
   "metadata": {},
   "outputs": [],
   "source": [
    "def add_feature_experience(df):\n",
    "    \n",
    "    df1 = df.copy()\n",
    "    \n",
    "    df1['experience_cat'] = np.where(dados['experience'].isin(['<1', '1', '2', '3', '4', '5', '6', '7', '8', '9']), 0, \n",
    "                                     np.where(dados['experience'].isin(['10', '11', '12', '13', '14', '15', '16', '17', '18', '19', '20', '>20']), 1, \n",
    "                                              np.nan))\n",
    "    \n",
    "    return df1"
   ]
  },
  {
   "cell_type": "markdown",
   "id": "255b1fc0-331c-4ece-bd05-2228ad5ef820",
   "metadata": {
    "tags": []
   },
   "source": [
    "### 2.4. Agrupar os valores de company_type relacionadas a startup"
   ]
  },
  {
   "cell_type": "code",
   "execution_count": 50,
   "id": "fde122ad-35f6-4ece-9280-bec628dc8292",
   "metadata": {},
   "outputs": [],
   "source": [
    "def add_feature_company_type(df):\n",
    "    \n",
    "    df1 = df.copy()\n",
    "    \n",
    "    df1['company_type_cat'] = np.where(dados['company_type'].isin(['Funded Startup', 'Early Stage Startup']), 1, \n",
    "                                     np.where(dados['company_type'].isin(['Pvt Ltd', 'Other', 'Public Sector', 'NGO']), 0, \n",
    "                                              np.nan))\n",
    "    \n",
    "    return df1"
   ]
  },
  {
   "cell_type": "markdown",
   "id": "6af8f3d5-f017-4e54-b811-61c6b3d7a3fc",
   "metadata": {
    "tags": []
   },
   "source": [
    "### 2.5. Criando função para identificar nulos em qualquer variável (se for nulo, 1, 0)"
   ]
  },
  {
   "cell_type": "code",
   "execution_count": 63,
   "id": "3cad4e8d-0b03-4ed6-b80e-8e3278643268",
   "metadata": {},
   "outputs": [],
   "source": [
    "def add_feature_null_column(df, col):\n",
    "    \n",
    "    df1 = df.copy()\n",
    "    \n",
    "    df1['check_null_' + col] = np.where(df1[col].isna(), 1, 0)\n",
    "    \n",
    "    return df1"
   ]
  },
  {
   "cell_type": "markdown",
   "id": "d2940d20-8f24-45aa-934c-f1f3c6b164d0",
   "metadata": {},
   "source": [
    "### 2.6. Criando função para identificar nulos em variáveis qualitativas"
   ]
  },
  {
   "cell_type": "code",
   "execution_count": 67,
   "id": "a561af49-83f2-485b-bd5e-78e95a1747c6",
   "metadata": {},
   "outputs": [],
   "source": [
    "def add_feature_null_qualitative(df, col):\n",
    "    \n",
    "    df1 = df.copy()\n",
    "    \n",
    "    df1[col] = np.where(df1[col].isna(), 'Outras', df1[col])\n",
    "    \n",
    "    return df1"
   ]
  },
  {
   "cell_type": "markdown",
   "id": "7cba0374-1f50-4a29-b2a5-0d8c79f6338c",
   "metadata": {},
   "source": [
    "### 2.7. Criando função para identificar nulos em variáveis quantitativas"
   ]
  },
  {
   "cell_type": "code",
   "execution_count": 70,
   "id": "e0f4fe64-dcb7-477f-b577-bbe867cc0c4a",
   "metadata": {},
   "outputs": [],
   "source": [
    "def add_feature_null_quantitative(df, col):\n",
    "    \n",
    "    df1 = df.copy()\n",
    "    \n",
    "    df1[col] = np.where(df1[col].isna(), 99999, df1[col])\n",
    "    \n",
    "    return df1"
   ]
  },
  {
   "cell_type": "markdown",
   "id": "5abf8ac6-1a68-4332-aa8a-235de8ad525c",
   "metadata": {},
   "source": [
    "- enrollee_id: excluir\n",
    "- city: codificar ela de texto -> número inteiro , testar o encoder - tratar os nulos\n",
    "- city_development_index: manter e tratar os nulos\n",
    "- gender: testar todos os encoders, tratar os nulos\n",
    "- relevent_experience: testar todos os encoders, tratar os nulos\n",
    "- enrolled_university: testar todos os encoders, tratar os nulos\n",
    "- education_level: testar todos os encoders, tratar os nulos\n",
    "- major_discipline: testar todos os encoders, tratar os nulos\n",
    "- experience: testar todos os encoders, tratar os nulos\n",
    "- company_size: testar todos os encoders, tratar os nulos\n",
    "- company_type: testar todos os encoders, tratar os nulos\n",
    "- last_new_job: testar todos os encoders, tratar os nulos\n",
    "- training_hours: manter e tratar os nulos"
   ]
  },
  {
   "cell_type": "markdown",
   "id": "62dba8db-637f-4738-92cf-f841216edd0b",
   "metadata": {},
   "source": [
    "## Próximos passos: \n",
    "\n",
    "1. Criar o pipeline inicial com os encoders da library category_encoders\n",
    "2. Criar o modelo\n",
    "3. criar a cross-validation\n",
    "..."
   ]
  },
  {
   "cell_type": "code",
   "execution_count": null,
   "id": "d05de726-bab0-46f1-ae2c-60894c02c28f",
   "metadata": {},
   "outputs": [],
   "source": []
  }
 ],
 "metadata": {
  "kernelspec": {
   "display_name": "Python 3 (ipykernel)",
   "language": "python",
   "name": "python3"
  },
  "language_info": {
   "codemirror_mode": {
    "name": "ipython",
    "version": 3
   },
   "file_extension": ".py",
   "mimetype": "text/x-python",
   "name": "python",
   "nbconvert_exporter": "python",
   "pygments_lexer": "ipython3",
   "version": "3.10.6"
  }
 },
 "nbformat": 4,
 "nbformat_minor": 5
}
